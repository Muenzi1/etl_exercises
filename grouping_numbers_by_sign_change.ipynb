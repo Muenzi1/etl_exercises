{
  "nbformat": 4,
  "nbformat_minor": 0,
  "metadata": {
    "colab": {
      "name": "grouping_numbers_pv.ipynb",
      "provenance": []
    },
    "kernelspec": {
      "name": "python3",
      "display_name": "Python 3"
    },
    "language_info": {
      "name": "python"
    }
  },
  "cells": [
    {
      "cell_type": "markdown",
      "source": [
        "# Grouping numbers in intervals by sign change\n",
        "\n",
        "## The task:"
      ],
      "metadata": {
        "id": "pKUF-DbriqTC"
      }
    },
    {
      "cell_type": "markdown",
      "source": [
        "Tekle wrote: \n",
        "\n",
        "*I have a list of data that contains negative, positive and zero numbers.\n",
        "The goal is to count the consecutive negative numbers and zero if exists and same thing to the positive numbers.\n",
        "Expected outcome of the example below is like this:\n",
        "group = [4,2,4,4,3]*"
      ],
      "metadata": {
        "id": "mwcw49qu_o8b"
      }
    },
    {
      "cell_type": "code",
      "source": [
        "import itertools\n",
        "import numpy as np\n",
        "\n",
        "val = [0,-1,-2,-3,4,5,-6,-7,-8,-9,10,0,11,10,-1,-2,0]\n",
        "arr = np.array(val)\n",
        "\n",
        "\n",
        "groups = itertools.groupby(arr, lambda x :  x <= 0)\n",
        "\n",
        "for g, v in groups:\n",
        "    \n",
        "    print([ m for m  in v])"
      ],
      "metadata": {
        "colab": {
          "base_uri": "https://localhost:8080/"
        },
        "id": "W3TrF654-yla",
        "outputId": "0668d383-b50c-4089-8f06-8ea87e5c963c"
      },
      "execution_count": 1,
      "outputs": [
        {
          "output_type": "stream",
          "name": "stdout",
          "text": [
            "[0, -1, -2, -3]\n",
            "[4, 5]\n",
            "[-6, -7, -8, -9]\n",
            "[10]\n",
            "[0]\n",
            "[11, 10]\n",
            "[-1, -2, 0]\n"
          ]
        }
      ]
    },
    {
      "cell_type": "markdown",
      "source": [
        "If a zero exists in a consecutive either to negative numbers or positive numbers it is counted. In the above example, I want the 10,0 to be listed with the list [11,10]. Zero is included if it happens to be within consecutive (either + or -) numbers or at the beginning or end.\n"
      ],
      "metadata": {
        "id": "B9bFgMsdAKNw"
      }
    },
    {
      "cell_type": "markdown",
      "source": [
        "## The solution"
      ],
      "metadata": {
        "id": "2q0V3-8DoKwb"
      }
    },
    {
      "cell_type": "code",
      "source": [
        "import numpy as np\n",
        "import pandas as pd\n",
        "\n",
        "# I added a second leading zero and several zeros in between to make the \n",
        "# mechanism more challenging\n",
        "val = [0,0,-1,-2,-3,4,5,-6,-7,-8,-9,10,0,0,0,1,0,1,10,-1,-2,0]\n",
        "\n",
        "# For sure one could solve this by loops and complicated if-else logic, but\n",
        "# as a Dev mostly working in Spark, Pandas feels slightly more natural \n",
        "df = pd.DataFrame({\"val\": val})\n",
        "\n",
        "# Calculate the sign of a value. \n",
        "# < 0: -1\n",
        "# == 0: 0\n",
        "# > 0: +1\n",
        "df[\"signs\"] = np.sign(df[\"val\"])\n",
        "\n",
        "# Now the magic happens. The idea is to replace zeros first by NaN, such that \n",
        "# filling-mechanisms ignores them and then forward fills them. \n",
        "df[\"manipulated_signs\"] = df[\"signs\"]\n",
        "\n",
        "df.loc[df[\"manipulated_signs\"] == 0, \"manipulated_signs\"] = np.nan\n",
        "\n",
        "# Handling leading zeros in the dataframe. If the first values were zero, \n",
        "# we converted them to NaNs before. Now, to forward fill correctly, we need\n",
        "# to derive the first non-NaN value and impute it to the top.\n",
        "if np.isnan(df.iloc[0][\"manipulated_signs\"]):\n",
        "    first_valid = df.iloc[df[\"manipulated_signs\"].notna().idxmax()][\"manipulated_signs\"]\n",
        "    df.loc[0, \"manipulated_signs\"] = first_valid\n",
        "\n",
        "# The previous conversion to NaN unfortunately came with a conversion to float\n",
        "# data types. Integers do not look well and are handled less performant. Hence,\n",
        "# we back-convert after successful forward filling.  \n",
        "df[\"ffilled_signs\"] = df[\"manipulated_signs\"].ffill().astype(\"int\")\n",
        "\n",
        "# Define intervals of constant signs, such that we can group over them.\n",
        "df[\"sign_group\"] = df['ffilled_signs'].diff().ne(0).cumsum()\n",
        "\n",
        "# Group the values into the sign_group intervals. The sign column is\n",
        "# just for clearer illustration of which sign a interval has. \n",
        "df1 = df.groupby(\"sign_group\").agg(\n",
        "        sign = (\"ffilled_signs\", lambda x: list(x)[0]),\n",
        "        value_list = (\"val\", lambda x: list(x)),\n",
        "        count = (\"val\", \"count\")\n",
        "    )\n",
        "\n",
        "df1 = df1.rename(columns={\"ffilled_signs\": \"sign\", \"val\": \"value_list\"})\n",
        "df1.index.name = \"interval\"\n",
        "display(df1)  # That's it. Looks like I met the requirements."
      ],
      "metadata": {
        "colab": {
          "base_uri": "https://localhost:8080/",
          "height": 290
        },
        "id": "GVjPq1RH_yiJ",
        "outputId": "e247a6fb-da32-4073-c6e4-acb0729f6b90"
      },
      "execution_count": 158,
      "outputs": [
        {
          "output_type": "display_data",
          "data": {
            "text/plain": [
              "          sign                  value_list  count\n",
              "interval                                         \n",
              "1           -1          [0, 0, -1, -2, -3]      5\n",
              "2            1                      [4, 5]      2\n",
              "3           -1            [-6, -7, -8, -9]      4\n",
              "4            1  [10, 0, 0, 0, 1, 0, 1, 10]      8\n",
              "5           -1                 [-1, -2, 0]      3"
            ],
            "text/html": [
              "\n",
              "  <div id=\"df-ace1cae0-cea0-46cc-9427-e14aa51b3bd7\">\n",
              "    <div class=\"colab-df-container\">\n",
              "      <div>\n",
              "<style scoped>\n",
              "    .dataframe tbody tr th:only-of-type {\n",
              "        vertical-align: middle;\n",
              "    }\n",
              "\n",
              "    .dataframe tbody tr th {\n",
              "        vertical-align: top;\n",
              "    }\n",
              "\n",
              "    .dataframe thead th {\n",
              "        text-align: right;\n",
              "    }\n",
              "</style>\n",
              "<table border=\"1\" class=\"dataframe\">\n",
              "  <thead>\n",
              "    <tr style=\"text-align: right;\">\n",
              "      <th></th>\n",
              "      <th>sign</th>\n",
              "      <th>value_list</th>\n",
              "      <th>count</th>\n",
              "    </tr>\n",
              "    <tr>\n",
              "      <th>interval</th>\n",
              "      <th></th>\n",
              "      <th></th>\n",
              "      <th></th>\n",
              "    </tr>\n",
              "  </thead>\n",
              "  <tbody>\n",
              "    <tr>\n",
              "      <th>1</th>\n",
              "      <td>-1</td>\n",
              "      <td>[0, 0, -1, -2, -3]</td>\n",
              "      <td>5</td>\n",
              "    </tr>\n",
              "    <tr>\n",
              "      <th>2</th>\n",
              "      <td>1</td>\n",
              "      <td>[4, 5]</td>\n",
              "      <td>2</td>\n",
              "    </tr>\n",
              "    <tr>\n",
              "      <th>3</th>\n",
              "      <td>-1</td>\n",
              "      <td>[-6, -7, -8, -9]</td>\n",
              "      <td>4</td>\n",
              "    </tr>\n",
              "    <tr>\n",
              "      <th>4</th>\n",
              "      <td>1</td>\n",
              "      <td>[10, 0, 0, 0, 1, 0, 1, 10]</td>\n",
              "      <td>8</td>\n",
              "    </tr>\n",
              "    <tr>\n",
              "      <th>5</th>\n",
              "      <td>-1</td>\n",
              "      <td>[-1, -2, 0]</td>\n",
              "      <td>3</td>\n",
              "    </tr>\n",
              "  </tbody>\n",
              "</table>\n",
              "</div>\n",
              "      <button class=\"colab-df-convert\" onclick=\"convertToInteractive('df-ace1cae0-cea0-46cc-9427-e14aa51b3bd7')\"\n",
              "              title=\"Convert this dataframe to an interactive table.\"\n",
              "              style=\"display:none;\">\n",
              "        \n",
              "  <svg xmlns=\"http://www.w3.org/2000/svg\" height=\"24px\"viewBox=\"0 0 24 24\"\n",
              "       width=\"24px\">\n",
              "    <path d=\"M0 0h24v24H0V0z\" fill=\"none\"/>\n",
              "    <path d=\"M18.56 5.44l.94 2.06.94-2.06 2.06-.94-2.06-.94-.94-2.06-.94 2.06-2.06.94zm-11 1L8.5 8.5l.94-2.06 2.06-.94-2.06-.94L8.5 2.5l-.94 2.06-2.06.94zm10 10l.94 2.06.94-2.06 2.06-.94-2.06-.94-.94-2.06-.94 2.06-2.06.94z\"/><path d=\"M17.41 7.96l-1.37-1.37c-.4-.4-.92-.59-1.43-.59-.52 0-1.04.2-1.43.59L10.3 9.45l-7.72 7.72c-.78.78-.78 2.05 0 2.83L4 21.41c.39.39.9.59 1.41.59.51 0 1.02-.2 1.41-.59l7.78-7.78 2.81-2.81c.8-.78.8-2.07 0-2.86zM5.41 20L4 18.59l7.72-7.72 1.47 1.35L5.41 20z\"/>\n",
              "  </svg>\n",
              "      </button>\n",
              "      \n",
              "  <style>\n",
              "    .colab-df-container {\n",
              "      display:flex;\n",
              "      flex-wrap:wrap;\n",
              "      gap: 12px;\n",
              "    }\n",
              "\n",
              "    .colab-df-convert {\n",
              "      background-color: #E8F0FE;\n",
              "      border: none;\n",
              "      border-radius: 50%;\n",
              "      cursor: pointer;\n",
              "      display: none;\n",
              "      fill: #1967D2;\n",
              "      height: 32px;\n",
              "      padding: 0 0 0 0;\n",
              "      width: 32px;\n",
              "    }\n",
              "\n",
              "    .colab-df-convert:hover {\n",
              "      background-color: #E2EBFA;\n",
              "      box-shadow: 0px 1px 2px rgba(60, 64, 67, 0.3), 0px 1px 3px 1px rgba(60, 64, 67, 0.15);\n",
              "      fill: #174EA6;\n",
              "    }\n",
              "\n",
              "    [theme=dark] .colab-df-convert {\n",
              "      background-color: #3B4455;\n",
              "      fill: #D2E3FC;\n",
              "    }\n",
              "\n",
              "    [theme=dark] .colab-df-convert:hover {\n",
              "      background-color: #434B5C;\n",
              "      box-shadow: 0px 1px 3px 1px rgba(0, 0, 0, 0.15);\n",
              "      filter: drop-shadow(0px 1px 2px rgba(0, 0, 0, 0.3));\n",
              "      fill: #FFFFFF;\n",
              "    }\n",
              "  </style>\n",
              "\n",
              "      <script>\n",
              "        const buttonEl =\n",
              "          document.querySelector('#df-ace1cae0-cea0-46cc-9427-e14aa51b3bd7 button.colab-df-convert');\n",
              "        buttonEl.style.display =\n",
              "          google.colab.kernel.accessAllowed ? 'block' : 'none';\n",
              "\n",
              "        async function convertToInteractive(key) {\n",
              "          const element = document.querySelector('#df-ace1cae0-cea0-46cc-9427-e14aa51b3bd7');\n",
              "          const dataTable =\n",
              "            await google.colab.kernel.invokeFunction('convertToInteractive',\n",
              "                                                     [key], {});\n",
              "          if (!dataTable) return;\n",
              "\n",
              "          const docLinkHtml = 'Like what you see? Visit the ' +\n",
              "            '<a target=\"_blank\" href=https://colab.research.google.com/notebooks/data_table.ipynb>data table notebook</a>'\n",
              "            + ' to learn more about interactive tables.';\n",
              "          element.innerHTML = '';\n",
              "          dataTable['output_type'] = 'display_data';\n",
              "          await google.colab.output.renderOutput(dataTable, element);\n",
              "          const docLink = document.createElement('div');\n",
              "          docLink.innerHTML = docLinkHtml;\n",
              "          element.appendChild(docLink);\n",
              "        }\n",
              "      </script>\n",
              "    </div>\n",
              "  </div>\n",
              "  "
            ]
          },
          "metadata": {}
        },
        {
          "output_type": "stream",
          "name": "stdout",
          "text": [
            "\n",
            "\n",
            "[5, 2, 4, 8, 3]\n"
          ]
        }
      ]
    },
    {
      "cell_type": "code",
      "source": [
        "# This last line is just to bring the results in the format you defined \n",
        "# above.\n",
        "print(df1['count'].tolist())"
      ],
      "metadata": {
        "colab": {
          "base_uri": "https://localhost:8080/"
        },
        "id": "7gjA5NcPn8aM",
        "outputId": "435fef10-f266-468e-be37-216c070d4561"
      },
      "execution_count": 160,
      "outputs": [
        {
          "output_type": "stream",
          "name": "stdout",
          "text": [
            "[5, 2, 4, 8, 3]\n"
          ]
        }
      ]
    }
  ]
}